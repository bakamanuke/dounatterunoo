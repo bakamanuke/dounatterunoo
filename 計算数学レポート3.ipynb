{
  "nbformat": 4,
  "nbformat_minor": 0,
  "metadata": {
    "colab": {
      "provenance": [],
      "authorship_tag": "ABX9TyNmwYQKfRwyu+VlVGZ0Kxce",
      "include_colab_link": true
    },
    "kernelspec": {
      "name": "python3",
      "display_name": "Python 3"
    },
    "language_info": {
      "name": "python"
    }
  },
  "cells": [
    {
      "cell_type": "markdown",
      "metadata": {
        "id": "view-in-github",
        "colab_type": "text"
      },
      "source": [
        "<a href=\"https://colab.research.google.com/github/bakamanuke/dounatterunoo/blob/main/%E8%A8%88%E7%AE%97%E6%95%B0%E5%AD%A6%E3%83%AC%E3%83%9D%E3%83%BC%E3%83%883.ipynb\" target=\"_parent\"><img src=\"https://colab.research.google.com/assets/colab-badge.svg\" alt=\"Open In Colab\"/></a>"
      ]
    },
    {
      "cell_type": "code",
      "execution_count": 128,
      "metadata": {
        "id": "1tAFFxxSRQCU",
        "colab": {
          "base_uri": "https://localhost:8080/"
        },
        "outputId": "8c50bc72-ca1f-48dd-ef1f-c8afbaab0304"
      },
      "outputs": [
        {
          "output_type": "stream",
          "name": "stdout",
          "text": [
            "元の行列の固有値は次の通り\n",
            " [-0.74430669 11.61220787  6.13209882]\n",
            "固有値 -0.7443066907641152 と対応する固有ベクトルは [ 0.9470421  -0.25461607  0.19565763]\n",
            "固有値 11.61220786875707 と対応する固有ベクトルは [0.08022687 0.77760958 0.62360804]\n",
            "固有値 6.132098822007049 と対応する固有ベクトルは [-0.31092588 -0.57488607  0.75685607]\n"
          ]
        }
      ],
      "source": [
        "#固有値を求めるプログラム\n",
        "import numpy as np\n",
        "import math\n",
        "M=np.array([[0.0,2.0,-1.0],[2.0,9.0,3.0],[-1.0,3.0,8.0]])\n",
        "def koyuuti(A):\n",
        "  Acopy = A.copy()\n",
        "  ipsi = 1.0e-12\n",
        "  row,line=np.shape(A)\n",
        "  P = np.eye(row)\n",
        "  kaisu = 100\n",
        "  for k in range(kaisu):\n",
        "    #kはループの回数\n",
        "    E = np.eye(row)\n",
        "    zetmax = 0\n",
        "    imax = 1\n",
        "    jmax = 2\n",
        "    for i in range(row):\n",
        "      for j in range(i+1,line):\n",
        "        zet = abs(A[i,j])\n",
        "        if zet > zetmax:\n",
        "          zetmax = zet\n",
        "          imax = i\n",
        "          jmax = j\n",
        "    if A[imax,imax] == A[jmax,jmax]:\n",
        "      theta = math.pi / 4\n",
        "    else:\n",
        "      theta = 0.5 * math.atan(2 * A[imax,jmax] / (A[imax,imax] - A[jmax,jmax]))\n",
        "    E[imax,imax] = math.cos(theta)\n",
        "    E[jmax,jmax] = math.cos(theta)\n",
        "    E[imax,jmax] = -math.sin(theta)\n",
        "    E[jmax,imax] = math.sin(theta)\n",
        "    A = E.T @ A @ E\n",
        "    P = P @ E\n",
        "  koyu = np.diag(A)\n",
        "  print(\"元の行列の固有値は次の通り\\n\",koyu)\n",
        "  for i in range(len(koyu)):\n",
        "    for j in range(len(koyu)):\n",
        "      if np.linalg.norm((Acopy - koyu[i]*np.eye(row)) @ P[0:,j]) < ipsi:\n",
        "        print(\"固有値\",koyu[i],\"と対応する固有ベクトルは\",P[0:,j],)\n",
        "      else:\n",
        "        continue\n",
        "koyuuti(M)"
      ]
    },
    {
      "cell_type": "code",
      "source": [
        "#3重対角行列に変換するプログラム\n",
        "import numpy as np\n",
        "import math\n",
        "\n",
        "A=np.array([[5.0,2.0,-1.0,1.0],[2.0,-1.0,3.0,-1.0],[-1.0,3.0,4.0,2.0],[1.0,-1.0,2.0,-4.0]])\n",
        "\n",
        "yoko,tate=np.shape(A)\n",
        "ipsi = 1.0e-12\n",
        "kaisu = 5000\n",
        "def Qmake(mat,k):\n",
        "  row,line=np.shape(mat)\n",
        "  y = mat[1:,0]\n",
        "  if np.linalg.norm(y) == 0:\n",
        "    return np.eye(row)\n",
        "  I = np.eye(row-1)\n",
        "  e = np.array([1])\n",
        "  for j in range(row-2):\n",
        "    e = np.append(e,0)\n",
        "  s = np.linalg.norm(y) * pow(-1.0,k+1)\n",
        "  w = s * e\n",
        "  u = (w - y)/(np.linalg.norm(w - y))\n",
        "  Q = I - 2 * np.outer(u,u)\n",
        "  return Q\n",
        "\n",
        "H = []\n",
        "for n in range(yoko-2):\n",
        "  P = np.eye(yoko)\n",
        "  B = A[n:,n:]\n",
        "  P[n+1:,n+1:] = Qmake(B,n)\n",
        "  H.append(P)\n",
        "  A = P.T @ A @ P\n",
        "print(\"元の行列を3重対角行列に変換すると次のようになる\\n\",A)\n",
        "for i in range(yoko):\n",
        "  for j in range(yoko):\n",
        "    if abs(A[i,j]) < ipsi:\n",
        "      A[i,j] = 0\n",
        "print(\"充分小さな要素を0として処理すると次のようになる\\n\",A)\n",
        "\n",
        "#QR法のプログラム\n",
        "\n",
        "for i in range(kaisu):\n",
        "  Q, R = QRbunkai(A)\n",
        "  A = R @ Q\n",
        "print(A)\n",
        "lam = np.diag(A)\n",
        "print(lam)"
      ],
      "metadata": {
        "colab": {
          "base_uri": "https://localhost:8080/"
        },
        "id": "fs7vjmmXUkPv",
        "outputId": "d9d95c2b-964a-4ac1-8185-8674906bda47"
      },
      "execution_count": 164,
      "outputs": [
        {
          "output_type": "stream",
          "name": "stdout",
          "text": [
            "元の行列を3重対角行列に変換すると次のようになる\n",
            " [[ 5.00000000e+00 -2.44948974e+00  0.00000000e+00  0.00000000e+00]\n",
            " [-2.44948974e+00 -4.00000000e+00  1.82574186e+00 -1.24537002e-16]\n",
            " [ 0.00000000e+00  1.82574186e+00 -2.60000000e+00 -3.26598632e-01]\n",
            " [ 0.00000000e+00 -5.40870636e-16 -3.26598632e-01  5.60000000e+00]]\n",
            "充分小さな要素を0として処理すると次のようになる\n",
            " [[ 5.         -2.44948974  0.          0.        ]\n",
            " [-2.44948974 -4.          1.82574186  0.        ]\n",
            " [ 0.          1.82574186 -2.6        -0.32659863]\n",
            " [ 0.          0.         -0.32659863  5.6       ]]\n",
            "[[ 5.14285714e+00 -2.35606036e+00 -2.14570821e-16 -4.89431464e-16]\n",
            " [-2.35606036e+00 -5.14285714e+00 -1.18451665e-15 -6.92087019e-17]\n",
            " [-2.32977747e-35 -1.69682619e-21  5.60555128e+00 -3.04095294e-08]\n",
            " [ 9.79098805e-44  7.15558872e-30 -3.04095283e-08 -1.60555128e+00]]\n",
            "[ 5.14285714 -5.14285714  5.60555128 -1.60555128]\n"
          ]
        }
      ]
    },
    {
      "cell_type": "code",
      "source": [
        "import numpy as np\n",
        "import math\n",
        "\n",
        "M=np.array([[5.0,2.0,-1.0,1.0],[2.0,-1.0,3.0,-1.0],[-1.0,3.0,4.0,2.0],[1.0,-1.0,2.0,-4.0]])\n",
        "\n",
        "def QRbunkai(A):\n",
        "  B = A.copy()\n",
        "  row,line = np.shape(A)\n",
        "  C = np.eye(row)\n",
        "  H = np.eye(row)\n",
        "  sankaku = []\n",
        "  #ハウスホルダー変換する\n",
        "  for n in range(row-1):\n",
        "    I = np.eye(row)\n",
        "    yoko,tate = np.shape(A)\n",
        "    e = np.array([1])\n",
        "    for i in range(yoko-1):\n",
        "      e = np.append(e,0)\n",
        "    #Aに見合った単位ベクトルを作った\n",
        "\n",
        "    if (np.linalg.norm(A[0:,0]) > A[0,0]) and (A[0,0] != 0):\n",
        "      sigma = (A[0,0] / abs(A[0,0])) *  np.linalg.norm(A[0:,0])\n",
        "      v = (A[0:,0] + sigma * e)/np.linalg.norm(A[0:,0] + sigma * e)\n",
        "    elif (np.linalg.norm(A[0:,0]) > A[0,0]) and (A[0,0] == 0):\n",
        "      sigma = np.linalg.norm(A[0:,0])\n",
        "      v = (A[0:,0] + sigma * e)/np.linalg.norm(A[0:,0] + sigma * e)\n",
        "    else:\n",
        "      sigma = -A[0,0]\n",
        "      v = 0 * e\n",
        "    H = np.eye(row-n) - 2 * np.outer(v,v)\n",
        "    A = H @ A\n",
        "    I[n:,n:] = H\n",
        "    sankaku.append(I)\n",
        "    A = A[1:,1:]\n",
        "  for i in range(len(sankaku)):\n",
        "    C = sankaku[i] @ C\n",
        "  return [C.T,C @ B]\n",
        "QRbunkai(M)[0]"
      ],
      "metadata": {
        "colab": {
          "base_uri": "https://localhost:8080/"
        },
        "id": "YgoUiK2pebQH",
        "outputId": "78581c56-51c8-468f-f0e8-8fd6256d0088"
      },
      "execution_count": 161,
      "outputs": [
        {
          "output_type": "execute_result",
          "data": {
            "text/plain": [
              "array([[-0.89802651,  0.35599613,  0.2484992 ,  0.07115681],\n",
              "       [-0.3592106 , -0.33056783, -0.66154517, -0.56925445],\n",
              "       [ 0.1796053 ,  0.82218153, -0.53897462,  0.0355784 ],\n",
              "       [-0.1796053 , -0.29666344, -0.45838029,  0.81830328]])"
            ]
          },
          "metadata": {},
          "execution_count": 161
        }
      ]
    },
    {
      "cell_type": "code",
      "source": [
        "import numpy as np\n",
        "import math\n",
        "A=np.array([1,2,3])\n",
        "v = 0 * A\n",
        "print(v)"
      ],
      "metadata": {
        "colab": {
          "base_uri": "https://localhost:8080/"
        },
        "id": "V1V1Z0bqhlzw",
        "outputId": "7211ca38-b5af-4097-cca6-12e6d8c53113"
      },
      "execution_count": 135,
      "outputs": [
        {
          "output_type": "stream",
          "name": "stdout",
          "text": [
            "[0 0 0]\n"
          ]
        }
      ]
    }
  ]
}